{
 "cells": [
  {
   "cell_type": "code",
   "execution_count": 1,
   "metadata": {},
   "outputs": [
    {
     "name": "stdout",
     "output_type": "stream",
     "text": [
      "Optimal values: [1.0, 1.0, 1.0, 0.0, 0.0], \n",
      "Optimal objective: 40.0\n"
     ]
    }
   ],
   "source": [
    "using JuMP, Cbc # modelling language and solver\n",
    "d1 = Model(with_optimizer(Cbc.Optimizer,logLevel = 0)) # create the model, select the solver\n",
    "@variable(d1, x[1:5], Bin) #creates the non-negative variables x1 and x2\n",
    "@constraint(d1, 15*x[1] + 12*x[2] + 7*x[3] + 4*x[4] + x[5] <= 37) # constraint 1\n",
    "@objective(d1, Max, 18*x[1] + 14*x[2] + 8*x[3] + 4*x[4]) # declare the objective function\n",
    "optimize!(d1) # solve the optimization problem\n",
    "\n",
    "# printing out the solution\n",
    "x_value = value.(x)\n",
    "print(\"Optimal values: $(x_value), \\nOptimal objective: $(objective_value(d1))\\n\")"
   ]
  },
  {
   "cell_type": "code",
   "execution_count": 4,
   "metadata": {},
   "outputs": [
    {
     "name": "stdout",
     "output_type": "stream",
     "text": [
      "Optimal values: [1.0, 1.0, 1.0, 0.7500000000000007, 0.0], \n",
      "Optimal objective: 43.0\n",
      "Presolve 1 (-5) rows, 4 (-1) columns and 4 (-6) elements\n",
      "0  Obj -0 Dual inf 67.642853 (4)\n",
      "1  Obj 43\n",
      "Optimal - objective value 43\n",
      "After Postsolve, objective 43, infeasibilities - dual 0 (0), primal 0 (0)\n",
      "Optimal objective 43 - 1 iterations time 0.002, Presolve 0.00\n"
     ]
    }
   ],
   "source": [
    "using JuMP, Cbc # modelling language and solver\n",
    "d1 = Model(with_optimizer(Cbc.Optimizer,logLevel = 0)) # create the model, select the solver\n",
    "@variable(d1, x[1:5] >= 0)\n",
    "@constraint(d1, x[1] <= 1) \n",
    "@constraint(d1, x[2] <= 1) \n",
    "@constraint(d1, x[3] <= 1) \n",
    "@constraint(d1, x[4] <= 1) \n",
    "@constraint(d1, x[5] <= 1) \n",
    "@constraint(d1, 15*x[1] + 12*x[2] + 7*x[3] + 4*x[4] + x[5] <= 37) # constraint 1\n",
    "@objective(d1, Max, 18*x[1] + 14*x[2] + 8*x[3] + 4*x[4]) # declare the objective function\n",
    "optimize!(d1) # solve the optimization problem\n",
    "\n",
    "# printing out the solution\n",
    "x_value = value.(x)\n",
    "print(\"Optimal values: $(x_value), \\nOptimal objective: $(objective_value(d1))\\n\")"
   ]
  },
  {
   "cell_type": "code",
   "execution_count": 5,
   "metadata": {},
   "outputs": [
    {
     "name": "stdout",
     "output_type": "stream",
     "text": [
      "Optimal values: [1.0, 1.0, 1.0, 0.0, 0.0], \n",
      "Optimal objective: 40.0\n",
      "Presolve 0 (-7) rows, 0 (-5) columns and 0 (-11) elements\n",
      "Optimal - objective value 40\n",
      "After Postsolve, objective 40, infeasibilities - dual 0 (0), primal 0 (0)\n",
      "Optimal objective 40 - 0 iterations time 0.002, Presolve 0.00\n"
     ]
    }
   ],
   "source": [
    "using JuMP, Cbc # modelling language and solver\n",
    "d1 = Model(with_optimizer(Cbc.Optimizer,logLevel = 0)) # create the model, select the solver\n",
    "@variable(d1, x[1:5] >= 0)\n",
    "@constraint(d1, x[1] <= 1) \n",
    "@constraint(d1, x[2] <= 1) \n",
    "@constraint(d1, x[3] <= 1) \n",
    "@constraint(d1, x[4] <= 1) \n",
    "@constraint(d1, x[5] <= 1) \n",
    "@constraint(d1, 15*x[1] + 12*x[2] + 7*x[3] + 4*x[4] + x[5] <= 37)\n",
    "@constraint(d1, x[4] <= 0)\n",
    "@objective(d1, Max, 18*x[1] + 14*x[2] + 8*x[3] + 4*x[4]) # declare the objective function\n",
    "optimize!(d1) # solve the optimization problem\n",
    "\n",
    "# printing out the solution\n",
    "x_value = value.(x)\n",
    "print(\"Optimal values: $(x_value), \\nOptimal objective: $(objective_value(d1))\\n\")"
   ]
  },
  {
   "cell_type": "code",
   "execution_count": 6,
   "metadata": {},
   "outputs": [
    {
     "name": "stdout",
     "output_type": "stream",
     "text": [
      "Optimal values: [1.0, 1.0, 0.8571428571428574, 1.0, 0.0], \n",
      "Optimal objective: 42.85714285714286\n",
      "Presolve 1 (-6) rows, 3 (-2) columns and 3 (-8) elements\n",
      "0  Obj 4 Dual inf 52.642854 (3)\n",
      "1  Obj 42.857143\n",
      "Optimal - objective value 42.857143\n",
      "After Postsolve, objective 42.857143, infeasibilities - dual 0 (0), primal 0 (0)\n",
      "Optimal objective 42.85714286 - 1 iterations time 0.002, Presolve 0.00\n"
     ]
    }
   ],
   "source": [
    "using JuMP, Cbc # modelling language and solver\n",
    "d1 = Model(with_optimizer(Cbc.Optimizer,logLevel = 0)) # create the model, select the solver\n",
    "@variable(d1, x[1:5] >= 0)\n",
    "@constraint(d1, x[1] <= 1) \n",
    "@constraint(d1, x[2] <= 1) \n",
    "@constraint(d1, x[3] <= 1) \n",
    "@constraint(d1, x[4] <= 1) \n",
    "@constraint(d1, x[5] <= 1) \n",
    "@constraint(d1, 15*x[1] + 12*x[2] + 7*x[3] + 4*x[4] + x[5] <= 37)\n",
    "@constraint(d1, x[4] >= 1)\n",
    "@objective(d1, Max, 18*x[1] + 14*x[2] + 8*x[3] + 4*x[4]) # declare the objective function\n",
    "optimize!(d1) # solve the optimization problem\n",
    "\n",
    "# printing out the solution\n",
    "x_value = value.(x)\n",
    "print(\"Optimal values: $(x_value), \\nOptimal objective: $(objective_value(d1))\\n\")"
   ]
  },
  {
   "cell_type": "code",
   "execution_count": 7,
   "metadata": {},
   "outputs": [
    {
     "name": "stdout",
     "output_type": "stream",
     "text": [
      "Optimal values: [1.0, 1.0, 0.0, 1.0, 0.0], \n",
      "Optimal objective: 36.0\n",
      "Presolve 0 (-8) rows, 0 (-5) columns and 0 (-12) elements\n",
      "Optimal - objective value 36\n",
      "After Postsolve, objective 36, infeasibilities - dual 0 (0), primal 0 (0)\n",
      "Optimal objective 36 - 0 iterations time 0.002, Presolve 0.00\n"
     ]
    }
   ],
   "source": [
    "using JuMP, Cbc # modelling language and solver\n",
    "d1 = Model(with_optimizer(Cbc.Optimizer,logLevel = 0)) # create the model, select the solver\n",
    "@variable(d1, x[1:5] >= 0)\n",
    "@constraint(d1, x[1] <= 1) \n",
    "@constraint(d1, x[2] <= 1) \n",
    "@constraint(d1, x[3] <= 1) \n",
    "@constraint(d1, x[4] <= 1) \n",
    "@constraint(d1, x[5] <= 1) \n",
    "@constraint(d1, 15*x[1] + 12*x[2] + 7*x[3] + 4*x[4] + x[5] <= 37)\n",
    "@constraint(d1, x[4] >= 1)\n",
    "@constraint(d1, x[3] <= 0)\n",
    "@objective(d1, Max, 18*x[1] + 14*x[2] + 8*x[3] + 4*x[4]) # declare the objective function\n",
    "optimize!(d1) # solve the optimization problem\n",
    "\n",
    "# printing out the solution\n",
    "x_value = value.(x)\n",
    "print(\"Optimal values: $(x_value), \\nOptimal objective: $(objective_value(d1))\\n\")"
   ]
  },
  {
   "cell_type": "code",
   "execution_count": 8,
   "metadata": {},
   "outputs": [
    {
     "name": "stdout",
     "output_type": "stream",
     "text": [
      "Optimal values: [1.0, 0.9166666666666667, 1.0, 1.0, 0.0], \n",
      "Optimal objective: 42.833333333333336\n",
      "Presolve 1 (-7) rows, 2 (-3) columns and 2 (-10) elements\n",
      "0  Obj 12 Dual inf 35.499998 (2)\n",
      "1  Obj 42.833333\n",
      "Optimal - objective value 42.833333\n",
      "After Postsolve, objective 42.833333, infeasibilities - dual 0 (0), primal 0 (0)\n",
      "Optimal objective 42.83333333 - 1 iterations time 0.002, Presolve 0.00\n"
     ]
    }
   ],
   "source": [
    "using JuMP, Cbc # modelling language and solver\n",
    "d1 = Model(with_optimizer(Cbc.Optimizer,logLevel = 0)) # create the model, select the solver\n",
    "@variable(d1, x[1:5] >= 0)\n",
    "@constraint(d1, x[1] <= 1) \n",
    "@constraint(d1, x[2] <= 1) \n",
    "@constraint(d1, x[3] <= 1) \n",
    "@constraint(d1, x[4] <= 1) \n",
    "@constraint(d1, x[5] <= 1) \n",
    "@constraint(d1, 15*x[1] + 12*x[2] + 7*x[3] + 4*x[4] + x[5] <= 37)\n",
    "@constraint(d1, x[4] >= 1)\n",
    "@constraint(d1, x[3] >= 1)\n",
    "@objective(d1, Max, 18*x[1] + 14*x[2] + 8*x[3] + 4*x[4]) # declare the objective function\n",
    "optimize!(d1) # solve the optimization problem\n",
    "\n",
    "# printing out the solution\n",
    "x_value = value.(x)\n",
    "print(\"Optimal values: $(x_value), \\nOptimal objective: $(objective_value(d1))\\n\")"
   ]
  },
  {
   "cell_type": "code",
   "execution_count": 9,
   "metadata": {},
   "outputs": [
    {
     "name": "stdout",
     "output_type": "stream",
     "text": [
      "Optimal values: [1.0, 0.0, 1.0, 1.0, 0.0], \n",
      "Optimal objective: 30.0\n",
      "Presolve 0 (-9) rows, 0 (-5) columns and 0 (-13) elements\n",
      "Optimal - objective value 30\n",
      "After Postsolve, objective 30, infeasibilities - dual 0 (0), primal 0 (0)\n",
      "Optimal objective 30 - 0 iterations time 0.002, Presolve 0.00\n"
     ]
    }
   ],
   "source": [
    "using JuMP, Cbc # modelling language and solver\n",
    "d1 = Model(with_optimizer(Cbc.Optimizer,logLevel = 0)) # create the model, select the solver\n",
    "@variable(d1, x[1:5] >= 0)\n",
    "@constraint(d1, x[1] <= 1) \n",
    "@constraint(d1, x[2] <= 1) \n",
    "@constraint(d1, x[3] <= 1) \n",
    "@constraint(d1, x[4] <= 1) \n",
    "@constraint(d1, x[5] <= 1) \n",
    "@constraint(d1, 15*x[1] + 12*x[2] + 7*x[3] + 4*x[4] + x[5] <= 37)\n",
    "@constraint(d1, x[4] >= 1)\n",
    "@constraint(d1, x[3] >= 1)\n",
    "@constraint(d1, x[2] <= 0)\n",
    "@objective(d1, Max, 18*x[1] + 14*x[2] + 8*x[3] + 4*x[4]) # declare the objective function\n",
    "optimize!(d1) # solve the optimization problem\n",
    "\n",
    "# printing out the solution\n",
    "x_value = value.(x)\n",
    "print(\"Optimal values: $(x_value), \\nOptimal objective: $(objective_value(d1))\\n\")"
   ]
  },
  {
   "cell_type": "code",
   "execution_count": 10,
   "metadata": {},
   "outputs": [
    {
     "name": "stdout",
     "output_type": "stream",
     "text": [
      "Optimal values: [0.9333333333333333, 1.0, 1.0, 1.0, 0.0], \n",
      "Optimal objective: 42.8\n",
      "Presolve 0 (-9) rows, 0 (-5) columns and 0 (-13) elements\n",
      "Optimal - objective value 42.8\n",
      "After Postsolve, objective 42.8, infeasibilities - dual 0 (0), primal 0 (0)\n",
      "Optimal objective 42.8 - 0 iterations time 0.002, Presolve 0.00\n"
     ]
    }
   ],
   "source": [
    "using JuMP, Cbc # modelling language and solver\n",
    "d1 = Model(with_optimizer(Cbc.Optimizer,logLevel = 0)) # create the model, select the solver\n",
    "@variable(d1, x[1:5] >= 0)\n",
    "@constraint(d1, x[1] <= 1) \n",
    "@constraint(d1, x[2] <= 1) \n",
    "@constraint(d1, x[3] <= 1) \n",
    "@constraint(d1, x[4] <= 1) \n",
    "@constraint(d1, x[5] <= 1) \n",
    "@constraint(d1, 15*x[1] + 12*x[2] + 7*x[3] + 4*x[4] + x[5] <= 37)\n",
    "@constraint(d1, x[4] >= 1)\n",
    "@constraint(d1, x[3] >= 1)\n",
    "@constraint(d1, x[2] >= 1)\n",
    "@objective(d1, Max, 18*x[1] + 14*x[2] + 8*x[3] + 4*x[4]) # declare the objective function\n",
    "optimize!(d1) # solve the optimization problem\n",
    "\n",
    "# printing out the solution\n",
    "x_value = value.(x)\n",
    "print(\"Optimal values: $(x_value), \\nOptimal objective: $(objective_value(d1))\\n\")"
   ]
  },
  {
   "cell_type": "code",
   "execution_count": 11,
   "metadata": {},
   "outputs": [
    {
     "name": "stdout",
     "output_type": "stream",
     "text": [
      "Optimal values: [0.0, 1.0, 1.0, 1.0, 0.0], \n",
      "Optimal objective: 26.0\n",
      "Presolve 0 (-10) rows, 0 (-5) columns and 0 (-14) elements\n",
      "Optimal - objective value 26\n",
      "After Postsolve, objective 26, infeasibilities - dual 0 (0), primal 0 (0)\n",
      "Optimal objective 26 - 0 iterations time 0.002, Presolve 0.00\n"
     ]
    }
   ],
   "source": [
    "using JuMP, Cbc # modelling language and solver\n",
    "d1 = Model(with_optimizer(Cbc.Optimizer,logLevel = 0)) # create the model, select the solver\n",
    "@variable(d1, x[1:5] >= 0)\n",
    "@constraint(d1, x[1] <= 1) \n",
    "@constraint(d1, x[2] <= 1) \n",
    "@constraint(d1, x[3] <= 1) \n",
    "@constraint(d1, x[4] <= 1) \n",
    "@constraint(d1, x[5] <= 1) \n",
    "@constraint(d1, 15*x[1] + 12*x[2] + 7*x[3] + 4*x[4] + x[5] <= 37)\n",
    "@constraint(d1, x[4] >= 1)\n",
    "@constraint(d1, x[3] >= 1)\n",
    "@constraint(d1, x[2] >= 1)\n",
    "@constraint(d1, x[1] <= 0)\n",
    "@objective(d1, Max, 18*x[1] + 14*x[2] + 8*x[3] + 4*x[4]) # declare the objective function\n",
    "optimize!(d1) # solve the optimization problem\n",
    "\n",
    "# printing out the solution\n",
    "x_value = value.(x)\n",
    "print(\"Optimal values: $(x_value), \\nOptimal objective: $(objective_value(d1))\\n\")"
   ]
  },
  {
   "cell_type": "code",
   "execution_count": 12,
   "metadata": {},
   "outputs": [
    {
     "name": "stdout",
     "output_type": "stream",
     "text": [
      "Presolve determined that the problem was infeasible with tolerance of 1e-08\n",
      "Analysis indicates model infeasible or unbounded\n",
      "0  Obj -0 Primal inf 6.0888711 (4) Dual inf 17.46531 (4)\n",
      "5  Obj 42.8 Primal inf 0.13119921 (1)\n",
      "Primal infeasible - objective value 42.8\n",
      "PrimalInfeasible objective 42.8 - 5 iterations time 0.002\n"
     ]
    },
    {
     "ename": "LoadError",
     "evalue": "Result index of attribute MathOptInterface.VariablePrimal(1) out of bounds. There are currently 0 solution(s) in the model.",
     "output_type": "error",
     "traceback": [
      "Result index of attribute MathOptInterface.VariablePrimal(1) out of bounds. There are currently 0 solution(s) in the model.",
      "",
      "Stacktrace:",
      "  [1] check_result_index_bounds",
      "    @ /opt/julia/packages/MathOptInterface/YDdD3/src/attributes.jl:139 [inlined]",
      "  [2] get(model::Cbc.Optimizer, attr::MathOptInterface.VariablePrimal, x::MathOptInterface.VariableIndex)",
      "    @ Cbc /opt/julia/packages/Cbc/vMMGG/src/MOI_wrapper/MOI_wrapper.jl:797",
      "  [3] get(model::MathOptInterface.Utilities.CachingOptimizer{Cbc.Optimizer, MathOptInterface.Utilities.UniversalFallback{MathOptInterface.Utilities.GenericModel{Float64, MathOptInterface.Utilities.ModelFunctionConstraints{Float64}}}}, attr::MathOptInterface.VariablePrimal, index::MathOptInterface.VariableIndex)",
      "    @ MathOptInterface.Utilities /opt/julia/packages/MathOptInterface/YDdD3/src/Utilities/cachingoptimizer.jl:757",
      "  [4] get(b::MathOptInterface.Bridges.LazyBridgeOptimizer{MathOptInterface.Utilities.CachingOptimizer{Cbc.Optimizer, MathOptInterface.Utilities.UniversalFallback{MathOptInterface.Utilities.GenericModel{Float64, MathOptInterface.Utilities.ModelFunctionConstraints{Float64}}}}}, attr::MathOptInterface.VariablePrimal, index::MathOptInterface.VariableIndex)",
      "    @ MathOptInterface.Bridges /opt/julia/packages/MathOptInterface/YDdD3/src/Bridges/bridge_optimizer.jl:1039",
      "  [5] get(model::MathOptInterface.Utilities.CachingOptimizer{MathOptInterface.AbstractOptimizer, MathOptInterface.Utilities.UniversalFallback{MathOptInterface.Utilities.GenericModel{Float64, MathOptInterface.Utilities.ModelFunctionConstraints{Float64}}}}, attr::MathOptInterface.VariablePrimal, index::MathOptInterface.VariableIndex)",
      "    @ MathOptInterface.Utilities /opt/julia/packages/MathOptInterface/YDdD3/src/Utilities/cachingoptimizer.jl:757",
      "  [6] _moi_get_result(::MathOptInterface.Utilities.CachingOptimizer{MathOptInterface.AbstractOptimizer, MathOptInterface.Utilities.UniversalFallback{MathOptInterface.Utilities.GenericModel{Float64, MathOptInterface.Utilities.ModelFunctionConstraints{Float64}}}}, ::MathOptInterface.VariablePrimal, ::Vararg{Any, N} where N)",
      "    @ JuMP /opt/julia/packages/JuMP/b3hGi/src/JuMP.jl:1199",
      "  [7] get(model::Model, attr::MathOptInterface.VariablePrimal, v::VariableRef)",
      "    @ JuMP /opt/julia/packages/JuMP/b3hGi/src/JuMP.jl:1232",
      "  [8] value(v::VariableRef; result::Int64)",
      "    @ JuMP /opt/julia/packages/JuMP/b3hGi/src/variables.jl:943",
      "  [9] value",
      "    @ /opt/julia/packages/JuMP/b3hGi/src/variables.jl:943 [inlined]",
      " [10] _broadcast_getindex_evalf",
      "    @ ./broadcast.jl:648 [inlined]",
      " [11] _broadcast_getindex",
      "    @ ./broadcast.jl:621 [inlined]",
      " [12] getindex",
      "    @ ./broadcast.jl:575 [inlined]",
      " [13] macro expansion",
      "    @ ./broadcast.jl:984 [inlined]",
      " [14] macro expansion",
      "    @ ./simdloop.jl:77 [inlined]",
      " [15] copyto!",
      "    @ ./broadcast.jl:983 [inlined]",
      " [16] copyto!",
      "    @ ./broadcast.jl:936 [inlined]",
      " [17] copy",
      "    @ ./broadcast.jl:908 [inlined]",
      " [18] materialize(bc::Base.Broadcast.Broadcasted{Base.Broadcast.DefaultArrayStyle{1}, Nothing, typeof(value), Tuple{Vector{VariableRef}}})",
      "    @ Base.Broadcast ./broadcast.jl:883",
      " [19] top-level scope",
      "    @ In[12]:18",
      " [20] eval",
      "    @ ./boot.jl:360 [inlined]",
      " [21] include_string(mapexpr::typeof(REPL.softscope), mod::Module, code::String, filename::String)",
      "    @ Base ./loading.jl:1116"
     ]
    }
   ],
   "source": [
    "using JuMP, Cbc # modelling language and solver\n",
    "d1 = Model(with_optimizer(Cbc.Optimizer,logLevel = 0)) # create the model, select the solver\n",
    "@variable(d1, x[1:5] >= 0)\n",
    "@constraint(d1, x[1] <= 1) \n",
    "@constraint(d1, x[2] <= 1) \n",
    "@constraint(d1, x[3] <= 1) \n",
    "@constraint(d1, x[4] <= 1) \n",
    "@constraint(d1, x[5] <= 1) \n",
    "@constraint(d1, 15*x[1] + 12*x[2] + 7*x[3] + 4*x[4] + x[5] <= 37)\n",
    "@constraint(d1, x[4] >= 1)\n",
    "@constraint(d1, x[3] >= 1)\n",
    "@constraint(d1, x[2] >= 1)\n",
    "@constraint(d1, x[1] >= 1)\n",
    "@objective(d1, Max, 18*x[1] + 14*x[2] + 8*x[3] + 4*x[4]) # declare the objective function\n",
    "optimize!(d1) # solve the optimization problem\n",
    "\n",
    "# printing out the solution\n",
    "x_value = value.(x)\n",
    "print(\"Optimal values: $(x_value), \\nOptimal objective: $(objective_value(d1))\\n\")"
   ]
  }
 ],
 "metadata": {
  "kernelspec": {
   "display_name": "Julia 1.6.2",
   "language": "julia",
   "name": "julia-1.6"
  },
  "language_info": {
   "file_extension": ".jl",
   "mimetype": "application/julia",
   "name": "julia",
   "version": "1.6.2"
  }
 },
 "nbformat": 4,
 "nbformat_minor": 4
}
