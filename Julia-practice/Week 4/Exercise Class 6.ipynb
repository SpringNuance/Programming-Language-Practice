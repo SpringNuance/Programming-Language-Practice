{
 "cells": [
  {
   "cell_type": "markdown",
   "metadata": {},
   "source": [
    "## Demo 1: Integer & binary optimisation\n",
    "\n",
    "Solve the optimisation problem\n",
    "\n",
    "$$\n",
    "\\begin{array}{lrll}\n",
    "\\max. &2x &  -\\;\\;\\; 1000y  & \\\\\n",
    "\\\\\n",
    "\\text{s.t.} &x & \\leq 750y\\\\\n",
    "& \\;\\;\\;&x \\in \\mathbb{Z}_+ &\\\\\n",
    "&\\;\\;\\; &y \\in \\{0,1\\}&\n",
    "\\end{array}\n",
    "$$"
   ]
  },
  {
   "cell_type": "code",
   "execution_count": 20,
   "metadata": {},
   "outputs": [
    {
     "name": "stdout",
     "output_type": "stream",
     "text": [
      "Optimal values: 750.0,1.0,\n",
      "Optimal objective: 500.0\n"
     ]
    }
   ],
   "source": [
    "#Part (a)\n",
    "using JuMP, Cbc #modelling language and solver\n",
    "\n",
    "d1 = Model(with_optimizer(Cbc.Optimizer,logLevel = 0)) #creates the model, select the solver  \n",
    "\n",
    "@variable(d1, x >= 0, Int) # creates the non-negative integer variable x\n",
    "@variable(d1, y, Bin) # creates the binary variable x\n",
    "\n",
    "@constraint(d1, x <= 750y) # constraint 1\n",
    "\n",
    "@objective(d1, Max, 2x-1000y) # declare the objective function\n",
    "\n",
    "optimize!(d1) # solve the optimisation problem\n",
    "\n",
    "# Printing out the solution\n",
    "x_value = value.(x)\n",
    "y_value = value.(y)\n",
    "print(\"Optimal values: $(x_value),$(y_value),\\nOptimal objective: $(objective_value(d1))\\n\")"
   ]
  },
  {
   "cell_type": "code",
   "execution_count": 21,
   "metadata": {},
   "outputs": [
    {
     "name": "stdout",
     "output_type": "stream",
     "text": [
      "Optimal values: 750.0,1.0,\n",
      "Optimal objective: 500.0\n"
     ]
    }
   ],
   "source": [
    "#Part (b)\n",
    "\n",
    "# comment out constraint one (and optimizie! and printing) above and add new constraint\n",
    "@constraint(d1, x <= 200 + 550y)\n",
    "\n",
    "# then run optimisation again\n",
    "optimize!(d1)\n",
    "\n",
    "#Printing out the solution\n",
    "x_value = value.(x)\n",
    "y_value = value.(y)\n",
    "print(\"Optimal values: $(x_value),$(y_value),\\nOptimal objective: $(objective_value(d1))\\n\")\n"
   ]
  },
  {
   "cell_type": "code",
   "execution_count": 22,
   "metadata": {},
   "outputs": [
    {
     "name": "stdout",
     "output_type": "stream",
     "text": [
      "Optimal values: [8.0, 7.0],1.0,\n",
      "Optimal objective: 874.0\n"
     ]
    }
   ],
   "source": [
    "#Part (c)\n",
    "\n",
    "d1c = Model(with_optimizer(Cbc.Optimizer,logLevel = 0)) #creates the model, select the solver  \n",
    "M = 10000\n",
    "\n",
    "@variable(d1c, x[1:2] >= 0, Int) # creates the non-negative integer variable x\n",
    "@variable(d1c, y, Bin) # creates the binary variable x\n",
    "\n",
    "@constraint(d1c, x[1] + x[2] <= 15)\n",
    "@constraint(d1c, x[1] - x[2] <= M*y)\n",
    "@constraint(d1c, x[2] - x[1] <= M*(1-y))\n",
    "\n",
    "@objective(d1c, Max, 25x[1]+32x[2]+450y+270*(1-y))\n",
    "\n",
    "optimize!(d1c)\n",
    "\n",
    "x_value = value.(x)\n",
    "y_value = value.(y)\n",
    "print(\"Optimal values: $(x_value),$(y_value),\\nOptimal objective: $(objective_value(d1c))\\n\")"
   ]
  }
 ],
 "metadata": {
  "kernelspec": {
   "display_name": "Julia 1.6.2",
   "language": "julia",
   "name": "julia-1.6"
  },
  "language_info": {
   "file_extension": ".jl",
   "mimetype": "application/julia",
   "name": "julia",
   "version": "1.6.2"
  }
 },
 "nbformat": 4,
 "nbformat_minor": 4
}
