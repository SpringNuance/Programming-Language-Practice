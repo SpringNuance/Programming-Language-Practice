{
 "cells": [
  {
   "cell_type": "markdown",
   "metadata": {},
   "source": [
    "## Demo 1"
   ]
  },
  {
   "cell_type": "markdown",
   "metadata": {},
   "source": [
    "$$\n",
    "\\begin{array}{lrll}\n",
    "\\min. &0.04(x_1 &-1000y_1) + 60y_1 + 0.04x_2 & + 20y_2 + 0.035(x_3-1000y_3) + 75y_3 \\\\\n",
    "\\\\\n",
    "\\text{s.t.} &x_i & \\geq 3000y_i & i=1,2,3\\\\\n",
    "    & \\sum_{i=1}^3 y_i & = 1 \\\\\n",
    "& \\;\\;\\;&x_i \\in \\mathbb{Z}_+ & i = 1,2,3\\\\\n",
    "&\\;\\;\\; &y_i \\in \\{0,1\\}& i=1,2,3\n",
    "\\end{array}\n",
    "$$"
   ]
  },
  {
   "cell_type": "code",
   "execution_count": 1,
   "metadata": {},
   "outputs": [
    {
     "name": "stdout",
     "output_type": "stream",
     "text": [
      "Company: [1.0, 0.0, 0.0] \n",
      "Optimal monthly charge: 140.0\n"
     ]
    }
   ],
   "source": [
    "using JuMP, Cbc #modelling language and solver\n",
    "\n",
    "d1 = Model(with_optimizer(Cbc.Optimizer,logLevel = 0)) #creates the model, select the solver  \n",
    "\n",
    "# create the non-negative variables x\n",
    "@variable(d1, x[1:3] >= 0)\n",
    "\n",
    "# create the binary variables y\n",
    "@variable(d1, y[1:3], Bin)\n",
    "\n",
    "# constraints\n",
    "@constraint(d1, x[1:3] .>= 3000y[1:3])\n",
    "@constraint(d1, sum(y[1:3]) == 1) \n",
    "\n",
    "\n",
    "#objective\n",
    "@objective(d1, Min, 0.04(x[1]-1000y[1]) + 60y[1] + 0.04x[2] + 20y[2] + 0.035(x[3]-1000y[3]) + 75y[3]) \n",
    "\n",
    "optimize!(d1) # solve the optimisation problem\n",
    "\n",
    "# Printing out the solution\n",
    "y_value = value.(y)\n",
    "print(\"Company: $(y_value) \\nOptimal monthly charge: $(objective_value(d1))\\n\")"
   ]
  },
  {
   "cell_type": "markdown",
   "metadata": {},
   "source": [
    "## Demo 2"
   ]
  },
  {
   "cell_type": "code",
   "execution_count": 12,
   "metadata": {},
   "outputs": [
    {
     "name": "stdout",
     "output_type": "stream",
     "text": [
      "Optimal solution: [1.6875, 1.125] \n",
      "Optimal obj: 7.3125\n",
      "Presolve 2 (0) rows, 2 (0) columns and 4 (0) elements\n",
      "0  Obj -0 Dual inf 4.9999998 (2)\n",
      "2  Obj 7.3125\n",
      "Optimal - objective value 7.3125\n",
      "Optimal objective 7.3125 - 2 iterations time 0.002\n"
     ]
    }
   ],
   "source": [
    "using JuMP, Cbc #modelling language and solver\n",
    "\n",
    "d2 = Model(with_optimizer(Cbc.Optimizer,logLevel = 0)) #creates the model, select the solver  \n",
    "\n",
    "@variable(d2, x[1:2]>=0)\n",
    "\n",
    "@constraint(d2, 2x[1]+5x[2]<=9)\n",
    "@constraint(d2, 4x[1]+ 2x[2]<=9)\n",
    "\n",
    "@objective(d2, Max, 3x[1]+2x[2])\n",
    "\n",
    "optimize!(d2) # solve the optimisation problem\n",
    "\n",
    "# Printing out the solution\n",
    "x_value = value.(x)\n",
    "print(\"Optimal solution: $(x_value) \\nOptimal obj: $(objective_value(d2))\\n\")"
   ]
  }
 ],
 "metadata": {
  "kernelspec": {
   "display_name": "Julia 1.6.2",
   "language": "julia",
   "name": "julia-1.6"
  },
  "language_info": {
   "file_extension": ".jl",
   "mimetype": "application/julia",
   "name": "julia",
   "version": "1.6.2"
  }
 },
 "nbformat": 4,
 "nbformat_minor": 4
}
