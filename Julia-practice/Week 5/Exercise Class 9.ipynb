{
 "cells": [
  {
   "cell_type": "markdown",
   "metadata": {},
   "source": [
    "## Demo 2: LSE with Gradient method"
   ]
  },
  {
   "cell_type": "code",
   "execution_count": 1,
   "metadata": {},
   "outputs": [],
   "source": [
    "using LinearAlgebra"
   ]
  },
  {
   "cell_type": "code",
   "execution_count": 3,
   "metadata": {},
   "outputs": [
    {
     "data": {
      "text/plain": [
       "lse_grad (generic function with 1 method)"
      ]
     },
     "execution_count": 3,
     "metadata": {},
     "output_type": "execute_result"
    }
   ],
   "source": [
    "function lse_grad(X,y,α0,ϵ,λ) \n",
    "    n = 0\n",
    "    while norm(2X'*X*α0-2X'*y) > ϵ\n",
    "        α1 = α0 - λ*(2X'*X*α0-2X'*y)\n",
    "        α0 = α1\n",
    "        n = n+1\n",
    "    end\n",
    "    println(\"After $(n) iterations the solution is\")\n",
    "    println(\"α = $(α0)\")\n",
    "end    "
   ]
  },
  {
   "cell_type": "code",
   "execution_count": 4,
   "metadata": {},
   "outputs": [
    {
     "name": "stdout",
     "output_type": "stream",
     "text": [
      "After 136 iterations the solution is\n",
      "α = [1.0719353700710121, 0.9263672861390743]\n"
     ]
    }
   ],
   "source": [
    "# X matrix\n",
    "X = [0 1;\n",
    "    1 1;\n",
    "    2 1;\n",
    "    3 1;\n",
    "    4 1;\n",
    "    5 1;\n",
    "    6 1]\n",
    "\n",
    "# y is predictor\n",
    "y = [1; \n",
    "    3; \n",
    "    1.5; \n",
    "    4; \n",
    "    6.5; \n",
    "    5; \n",
    "    8]\n",
    "\n",
    "α0 = [0;0] #staring point\n",
    "λ = 0.01 # step size\n",
    "ϵ = 0.01 # tolerance\n",
    "\n",
    "lse_grad(X,y,α0,ϵ,λ)"
   ]
  }
 ],
 "metadata": {
  "kernelspec": {
   "display_name": "Julia 1.6.2",
   "language": "julia",
   "name": "julia-1.6"
  },
  "language_info": {
   "file_extension": ".jl",
   "mimetype": "application/julia",
   "name": "julia",
   "version": "1.6.2"
  }
 },
 "nbformat": 4,
 "nbformat_minor": 4
}
