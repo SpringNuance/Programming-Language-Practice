{
 "cells": [
  {
   "cell_type": "markdown",
   "metadata": {},
   "source": [
    "## Problem 2: Formulate & solve dual problem\n",
    "\n",
    "The primal problem is\n",
    "\\begin{align*}\n",
    "\\max. z =\\ & x_1 + x_2 + x_3\\\\\n",
    "    &0.25x_1 + 0.1x_3 \\leq 20\\\\\n",
    "    &0.2x_2 + 0.15x_3 \\leq 45\\\\\n",
    "    &50x_1 + 75x_2 + 60x_3 \\leq 5000\\\\\n",
    "    & x_1,\\ x_2, \\ x_3 \\geq 0\n",
    "\\end{align*}\n",
    "\n",
    "The dual problem is therefore:\n",
    "\\begin{align*}\n",
    "    \\min. \\ &w=20y_1 + 45y_2 + 5000y_3\\\\\n",
    "    \\text{s.t. }&0.25y_1 + 50y_3 \\geq 1\\\\\n",
    "    &0.2y_2 + 75y_3 \\geq 1\\\\\n",
    "    &0.1y_1 + 0.15y_2 + 60y_3 \\geq 1\\\\\n",
    "    &y_1, \\ y_2, \\ y_3 \\geq 0\n",
    "\\end{align*}"
   ]
  },
  {
   "cell_type": "code",
   "execution_count": 5,
   "metadata": {},
   "outputs": [
    {
     "name": "stdout",
     "output_type": "stream",
     "text": [
      "Optimal primal values:[70.0, 0.0, 25.000000000000007],\n",
      "Optimal objective: 95.0\n",
      "Optimal dual values:[1.0, 0.0, 0.015],\n",
      "Optimal objective: 95.0\n"
     ]
    }
   ],
   "source": [
    "using JuMP, Cbc #modelling language and solver\n",
    "\n",
    "# primal model\n",
    "z = Model(with_optimizer(Cbc.Optimizer,logLevel = 0)) #creates the model, select the solver  \n",
    "\n",
    "@variable(z, x[1:3] >= 0)\n",
    "\n",
    "@constraint(z, 0.25x[1]+0.1x[3] <= 20) # constraint 1\n",
    "@constraint(z, 0.2x[2]+0.15x[3] <= 45) # constraint 2\n",
    "@constraint(z, 50x[1]+75x[2]+60x[3] <= 5000) # constraint 3\n",
    "\n",
    "@objective(z, Max, x[1]+x[2]+x[3]) # declare the objective function\n",
    "\n",
    "optimize!(z) # solve the optimisation problem\n",
    "\n",
    "# dual model\n",
    "w = Model(with_optimizer(Cbc.Optimizer,logLevel = 0)) #creates the model, select the solver  \n",
    "\n",
    "@variable(w, y[1:3] >= 0)\n",
    "\n",
    "@constraint(w, 0.25y[1]+50y[3] >= 1) # constraint 1\n",
    "@constraint(w, 0.2y[2]+75y[3] >= 1) # constraint 2\n",
    "@constraint(w, 0.1y[1]+0.15y[2]+60y[3] >= 1) # constraint 3\n",
    "\n",
    "@objective(w, Min, 20y[1]+45y[2]+5000y[3]) # declare the objective function\n",
    "\n",
    "optimize!(w) # solve the optimisation problem\n",
    "\n",
    "# Printing out the solution\n",
    "x_value = value.(x)\n",
    "y_value = value.(y)\n",
    "print(\"Optimal primal values:$(x_value),\\nOptimal objective: $(objective_value(z))\\n\")\n",
    "print(\"Optimal dual values:$(y_value),\\nOptimal objective: $(objective_value(w))\\n\")"
   ]
  },
  {
   "cell_type": "markdown",
   "metadata": {},
   "source": [
    "## Problem 5: Dual problem\n",
    "\n",
    "\\begin{align*}\n",
    "    \\min. \\ z = & 50x_1 +60x_2 +30x_3\\\\\n",
    "    \\text{s.t. }& 5x_1 + 5x_2 + 3x_3 \\geq 50\\\\\n",
    "    & x_1 + x_2 - x_3 \\geq 20\\\\\n",
    "    & 7x_1 + 6x_2 - 9x_3 \\geq 30\\\\\n",
    "    & 5x_1 + 5x_2 + 5x_3 \\geq 35\\\\\n",
    "    & 2x_1 + 4x_2 - 15x_3 \\geq 10\\\\\n",
    "    & 12x_1 + 10x_2 \\geq 90\\\\\n",
    "    & x_1,\\ x_2,\\ x_3 \\geq 0\n",
    "\\end{align*}\n",
    "\n",
    "\n",
    "\n",
    "\n",
    "\n",
    "\\begin{align*}\n",
    "    \\max. \\ w = & 50y_1+20y_2+30y_3+35y_4+10y_5+90y_6\\\\\n",
    "    \\text{s.t. } & 5y_1 + y_2 + 7y_3 + 5y_4 + 2y_5 + 12y_6 \\leq 50\\\\\n",
    "    & 5y_1 + y_2 + 6y_3 + 5y_4 + 4y_5 + 10y_6 \\leq 60\\\\\n",
    "    & 3y_1 - y_2 - 9y_3 + 5y_4 - 15y_5 \\leq 30\\\\\n",
    "    & y_i \\geq 0\n",
    "\\end{align*}\n",
    "\n"
   ]
  },
  {
   "cell_type": "code",
   "execution_count": 4,
   "metadata": {},
   "outputs": [
    {
     "name": "stdout",
     "output_type": "stream",
     "text": [
      "Optimal values:[0.0, 50.0, 0.0, 0.0, 0.0, 0.0],\n",
      "Optimal objective: 1000.0\n"
     ]
    }
   ],
   "source": [
    "\n",
    "using JuMP, Cbc #modelling language and solver\n",
    "\n",
    "w5 = Model(with_optimizer(Cbc.Optimizer,logLevel = 0)) #creates the model, select the solver  \n",
    "\n",
    "@variable(w5, y[1:6] >= 0)\n",
    "\n",
    "@constraint(w5, 5y[1]+y[2]+7y[3]+5y[4]+2y[5]+12y[6] <= 50) # constraint 1\n",
    "@constraint(w5, 5y[1]+y[2]+6y[3]+5y[4]+4y[5]+10y[6] <= 60) # constraint 2\n",
    "@constraint(w5, 3y[1]-y[2]-9y[3]+5y[4]-15y[5] <= 30) # constraint 3\n",
    "\n",
    "@objective(w5, Max, 50y[1]+20y[2]+30y[3]+35y[4]+10y[5]+90y[6]) # declare the objective function\n",
    "\n",
    "optimize!(w5) # solve the optimisation problem\n",
    "\n",
    "# Printing out the solution\n",
    "y_value = value.(y)\n",
    "print(\"Optimal values:$(y_value),\\nOptimal objective: $(objective_value(w5))\\n\")"
   ]
  }
 ],
 "metadata": {
  "kernelspec": {
   "display_name": "Julia 1.3.0",
   "language": "julia",
   "name": "julia-1.3"
  },
  "language_info": {
   "file_extension": ".jl",
   "mimetype": "application/julia",
   "name": "julia",
   "version": "1.3.0"
  }
 },
 "nbformat": 4,
 "nbformat_minor": 4
}
