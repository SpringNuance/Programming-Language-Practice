{
 "cells": [
  {
   "cell_type": "raw",
   "metadata": {},
   "source": [
    "Demo 1:\n",
    "Solve the optimisation problem\n",
    "        max .  3x1 + x2\n",
    "        s.t .  2x1 + 5x2 ≤ 8\n",
    "              −4x1 + 2x2 ≥ −5\n",
    "                x1, x2 ≥ 0"
   ]
  },
  {
   "cell_type": "code",
   "execution_count": 9,
   "metadata": {},
   "outputs": [
    {
     "name": "stdout",
     "output_type": "stream",
     "text": [
      "Optimal values: [1.7083333333333333, 0.9166666666666667], \n",
      "Optimal objective: 6.041666666666667\n",
      "Presolve 0 (-2) rows, 0 (-2) columns and 0 (-4) elements\n",
      "Optimal - objective value 6.0416667\n",
      "After Postsolve, objective 6.0416667, infeasibilities - dual 0 (0), primal 0 (0)\n",
      "Optimal objective 6.041666667 - 0 iterations time 0.002, Presolve 0.00\n"
     ]
    }
   ],
   "source": [
    "using JuMP, Cbc # modelling language and solver\n",
    "d1 = Model(with_optimizer(Cbc.Optimizer,logLevel = 0)) # create the model, select the solver\n",
    "@variable(d1, x[1:2] >= 0) #creates the non-negative variables x1 and x2\n",
    "@constraint(d1, 2*x[1] + 5*x[2] <= 8) # constraint 1\n",
    "@constraint(d1, -4 * x[1] + 2*x[2] >= -5) # constraint 2\n",
    "@objective(d1, Max, 3*x[1]+x[2]) # declare the objective function\n",
    "optimize!(d1) # solve the optimization problem\n",
    "\n",
    "# printing out the solution\n",
    "x_value = value.(x)\n",
    "print(\"Optimal values: $(x_value), \\nOptimal objective: $(objective_value(d1))\\n\")"
   ]
  },
  {
   "cell_type": "raw",
   "metadata": {},
   "source": [
    "Demo 2:\n",
    "Matti is a farmer and wants to decide how many acres of rye and wheat to plant\n",
    "for the coming year. Each acre of wheat produces 25 loads of wheat and requires\n",
    "10 hours of labour per week. An acre of rye produces 10 loads of rye and requires\n",
    "4 hours of labour per week. The wheat sells at e4 per load and the rye e3 per\n",
    "load. Matti has 7 acres of farmland available and 40 hours of labour per week.\n",
    "Government regulations require that at least 30 loads of rye is produced during a\n",
    "given year. Let x1 be the number of acres of wheat planted, and x2 be the number\n",
    "of acres of rye planted.\n",
    "Formulate an LP that will maximise Matti’s total profit from wheat and rye, and\n",
    "solve with Excel Solver and Julia.\n",
    "Solve the optimisation problem\n",
    "        max . 100x1 + 30x2\n",
    "        s.t .    x1 +   x2 ≤ 7\n",
    "               10x1 +  4x2 ≤ 40\n",
    "                      10x2 ≥ 30\n",
    "                    x1, x2 ≥ 0"
   ]
  },
  {
   "cell_type": "code",
   "execution_count": 11,
   "metadata": {},
   "outputs": [
    {
     "name": "stdout",
     "output_type": "stream",
     "text": [
      "Optimal values: [2.8, 3.0], \n",
      "Optimal objective: 370.0\n",
      "Presolve 2 (-1) rows, 2 (0) columns and 4 (-1) elements\n",
      "0  Obj 90 Dual inf 130 (2)\n",
      "3  Obj 370\n",
      "Optimal - objective value 370\n",
      "After Postsolve, objective 370, infeasibilities - dual 0 (0), primal 0 (0)\n",
      "Optimal objective 370 - 3 iterations time 0.002, Presolve 0.00\n"
     ]
    }
   ],
   "source": [
    "using JuMP, Cbc # modelling language and solver\n",
    "d1 = Model(with_optimizer(Cbc.Optimizer,logLevel = 0)) # create the model, select the solver\n",
    "@variable(d1, x[1:2] >= 0) #creates the non-negative variables x1 and x2\n",
    "@constraint(d1, x[1] + x[2] <= 7) # constraint 1\n",
    "@constraint(d1, 10 * x[1] + 4 * x[2] <= 40) # constraint 2\n",
    "@constraint(d1,            10 * x[2] >= 30) # constraint 3\n",
    "@objective(d1, Max, 100 * x[1] + 30 * x[2]) # declare the objective function\n",
    "optimize!(d1) # solve the optimization problem\n",
    "\n",
    "# printing out the solution\n",
    "x_value = value.(x)\n",
    "print(\"Optimal values: $(x_value), \\nOptimal objective: $(objective_value(d1))\\n\")"
   ]
  }
 ],
 "metadata": {
  "kernelspec": {
   "display_name": "Julia 1.6.2",
   "language": "julia",
   "name": "julia-1.6"
  },
  "language_info": {
   "file_extension": ".jl",
   "mimetype": "application/julia",
   "name": "julia",
   "version": "1.6.2"
  }
 },
 "nbformat": 4,
 "nbformat_minor": 4
}
