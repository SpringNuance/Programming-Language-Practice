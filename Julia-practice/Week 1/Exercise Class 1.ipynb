{
 "cells": [
  {
   "cell_type": "markdown",
   "metadata": {},
   "source": [
    "## Demo 1: Excel Solver and Julia\n",
    "\n",
    "Solve the optimisation problem\n",
    "\n",
    "$$\n",
    "\\begin{array}{lrll}\n",
    "\\max. &3x_1 &  +\\;\\;\\; x_2  & \\\\\n",
    "\\\\\n",
    "\\text{s.t.} &2x_1 &  +\\;\\;\\; 5x_2 & \\leq 8\\\\\n",
    "     &-4x_1 & +\\;\\;\\; 2x_2 & \\geq -5\\\\\n",
    "     & x_1, & x_2 & \\geq 0\n",
    "\\end{array}\n",
    "$$\n"
   ]
  },
  {
   "cell_type": "code",
   "execution_count": 1,
   "metadata": {},
   "outputs": [
    {
     "name": "stdout",
     "output_type": "stream",
     "text": [
      "Optimal values: [1.70833, 0.916667],\n",
      "Optimal objective: 6.041666666666667\n"
     ]
    }
   ],
   "source": [
    "using JuMP, Cbc #modelling language and solver\n",
    "\n",
    "d1 = Model(with_optimizer(Cbc.Optimizer,logLevel = 0)) #creates the model, select the solver  \n",
    "\n",
    "@variable(d1, x[1:2] >= 0) # creates the non-negative variables x1 and x2\n",
    "\n",
    "@constraint(d1, 2*x[1] + 5*x[2] <= 8) # constraint 1\n",
    "@constraint(d1, -4*x[1] + 2*x[2] >= -5) # constraint 2\n",
    "\n",
    "@objective(d1, Max, 3*x[1]+x[2]) # declare the objective function\n",
    "\n",
    "optimize!(d1) # solve the optimisation problem\n",
    "\n",
    "#Printing out the solution\n",
    "x_value = value.(x)\n",
    "print(\"Optimal values: $(x_value),\\nOptimal objective: $(objective_value(d1))\\n\")\n"
   ]
  },
  {
   "cell_type": "markdown",
   "metadata": {},
   "source": [
    "## Demo 2: Formulation of LPs\n",
    "\n",
    "Solve Matti's LP\n",
    "\n",
    "$$\n",
    "\\begin{array}{lrll}\n",
    "\\max. &100x_1 &  +\\;\\;\\; 30x_2  & \\\\\n",
    "\\\\\n",
    "\\text{s.t.} &x_1 &  +\\;\\;\\; x_2 & \\leq 7\\\\\n",
    "     &10x_1 & +\\;\\;\\; 4x_2 & \\leq 40\\\\\n",
    "     &\\;\\;\\;&\\;\\;\\; 10x_2 & \\geq 30\\\\\n",
    "     & x_1, & x_2 & \\geq 0\n",
    "\\end{array}\n",
    "$$"
   ]
  },
  {
   "cell_type": "code",
   "execution_count": 2,
   "metadata": {},
   "outputs": [
    {
     "name": "stdout",
     "output_type": "stream",
     "text": [
      "Optimal arces of wheat: 2.8, \n",
      "Optimal arces of rye: 3.0,\n",
      "Matti's optimial profit: 370.0\n"
     ]
    }
   ],
   "source": [
    "d2 = Model(with_optimizer(Cbc.Optimizer,logLevel = 0)) #creates the model, select the solver  \n",
    "\n",
    "@variable(d2, x[1:2] >= 0) # creates the non-negative variables x1 and x2\n",
    "\n",
    "@constraint(d2, x[1] + x[2] <= 7) # constraint 1\n",
    "@constraint(d2, 10*x[1] + 4*x[2] <= 40) # constraint 2\n",
    "@constraint(d2, 10*x[2] >= 30) # constraint 3\n",
    "\n",
    "@objective(d2, Max, 100*x[1]+30*x[2]) # declare the objective function\n",
    "\n",
    "optimize!(d2) # solve the optimisation problem\n",
    "\n",
    "#Printing out the solution\n",
    "x_value = value.(x)\n",
    "print(\"Optimal arces of wheat: $(x_value[1]), \\nOptimal arces of rye: $(x_value[2]),\\nMatti's optimial profit: $(objective_value(d2))\\n\")"
   ]
  },
  {
   "cell_type": "markdown",
   "metadata": {},
   "source": [
    "## Problem 1: Solving simple LPs"
   ]
  },
  {
   "cell_type": "code",
   "execution_count": 3,
   "metadata": {},
   "outputs": [
    {
     "name": "stdout",
     "output_type": "stream",
     "text": [
      "Optimal x: 0.6666666666666666, \n",
      "Optimal y: 0.0,\n",
      "Optimal objective: 0.6666666666666666\n"
     ]
    }
   ],
   "source": [
    "p1a = Model(with_optimizer(Cbc.Optimizer,logLevel = 0)) #creates the model, select the solver  \n",
    "\n",
    "@variable(p1a, x >= 0) # creates the non-negative variables\n",
    "@variable(p1a, y >= 0)\n",
    "\n",
    "@constraint(p1a, 3*x + y >= 2) # constraint 1\n",
    "@constraint(p1a, x - y >= 0) # constraint 2\n",
    "\n",
    "@objective(p1a, Min, x + y) # declare the objective function\n",
    "\n",
    "optimize!(p1a) # solve the optimisation problem\n",
    "\n",
    "#Printing out the solution\n",
    "print(\"Optimal x: $(value.(x)), \\nOptimal y: $(value.(y)),\\nOptimal objective: $(objective_value(p1a))\\n\")"
   ]
  },
  {
   "cell_type": "code",
   "execution_count": 4,
   "metadata": {},
   "outputs": [
    {
     "name": "stdout",
     "output_type": "stream",
     "text": [
      "Optimal x1: 20.0, \n",
      "Optimal x2: 60.0,\n",
      "Optimal objective: 180.0\n"
     ]
    }
   ],
   "source": [
    "p1b = Model(with_optimizer(Cbc.Optimizer,logLevel = 0)) #creates the model, select the solver  \n",
    "\n",
    "@variable(p1b, x[1:2] >= 0) # creates the non-negative variables\n",
    "\n",
    "@constraint(p1b, 2*x[1] + x[2] <= 100) # constraint 1\n",
    "@constraint(p1b, x[1] + x[2] <= 80) # constraint 2\n",
    "@constraint(p1b, x[1] <= 40) # constraint 3\n",
    "\n",
    "@objective(p1b, Max, 3*x[1] + 2*x[2]) # declare the objective function\n",
    "\n",
    "optimize!(p1b) # solve the optimisation problem\n",
    "\n",
    "#Printing out the solution\n",
    "x_value = value.(x)\n",
    "print(\"Optimal x1: $(x_value[1]), \\nOptimal x2: $(x_value[2]),\\nOptimal objective: $(objective_value(p1b))\\n\")"
   ]
  },
  {
   "cell_type": "markdown",
   "metadata": {},
   "source": [
    "## Problem 2: Cargo plane LP\n",
    "\n",
    "\\begin{align*}\n",
    "    \\max. \\ &310(x_{11}+x_{12}+x_{13}) + 380(x_{21}+x_{22}+x_{23}) + &350(x_{31}+x_{32}+x_{33}) + 285(x_{41}+x{42}+x_{43})\n",
    "\\end{align*}\n",
    "\n",
    "\n",
    "\\begin{align*}\n",
    "    x_{11} + x_{12} + x_{13} \\leq 18 \\text{    (maximum amount of cargo 1)}\\\\  \n",
    "    x_{21} + x_{22} + x_{23} \\leq 15 \\text{    (maximum amount of cargo 2)}\\\\\n",
    "    x_{31} + x_{32} + x_{33} \\leq 23 \\text{    (maximum amount of cargo 3)}\\\\\n",
    "    x_{41} + x_{42} + x_{43} \\leq 12 \\text{    (maximum amount of cargo 4) }\n",
    "\\end{align*}\n",
    "\n",
    "\n",
    "\\begin{align*}\n",
    "    x_{11} +x_{21}+x_{31}+x_{41} \\leq 10 \\text{    (front weight capacity)}\\\\\n",
    "    x_{12} +x_{22}+x_{32}+x_{42} \\leq 16 \\text{    (center weight capacity)}\\\\\n",
    "    x_{13} +x_{23}+x_{33}+x_{43} \\leq 8 \\text{    (rear weight capacity)}\n",
    "\\end{align*}\n",
    "\n",
    "\n",
    "\\begin{align*}\n",
    "    480x_{11} + 650x_{21} + 580x_{31} + 390x_{41} \\leq 6800 \\text{    (front volume capacity)}\\\\\n",
    "    480x_{12} + 650x_{22} + 580x_{32} + 390x_{42} \\leq 8700 \\text{    (center volume capacity)}\\\\\n",
    "    480x_{13} + 650x_{23} + 580x_{33} + 390x_{43} \\leq 5300 \\text{    (rear volume capacity)}\n",
    "\\end{align*}\n",
    "\n",
    "\n",
    "\\begin{align*}\n",
    "    \\frac{x_{11}+x_{21}+x_{31}+x_{41}}{10}=\\frac{x_{12}+x_{22}+x_{32}+x_{42}}{16}=\\frac{x_{13}+x_{23}+x_{33}+x_{43}}{8} \\text{    (balance constraint)}\n",
    "\\end{align*}\n",
    "\n",
    "\n",
    "\\begin{align*}\n",
    "    x_{ij}\\geq 0 \\ \\forall i \\ \\forall j\n",
    "\\end{align*}"
   ]
  },
  {
   "cell_type": "code",
   "execution_count": 5,
   "metadata": {},
   "outputs": [
    {
     "name": "stdout",
     "output_type": "stream",
     "text": [
      "Optimal values: [0.0 0.0 0.0; 7.0 0.0 8.0; 3.0 12.9474 0.0; 0.0 3.05263 0.0],\n",
      "Optimal objective: 12151.57894736842\n"
     ]
    }
   ],
   "source": [
    "p2 = Model(with_optimizer(Cbc.Optimizer,logLevel = 0)) #creates the model, select the solver  \n",
    "\n",
    "@variable(p2, x[1:4,1:3] >= 0) # creates the non-negative variables\n",
    "\n",
    "# max cargo amounts\n",
    "@constraint(p2, sum(x[1,j] for j = 1:3) <= 18)\n",
    "@constraint(p2, sum(x[2,j] for j = 1:3) <= 15)\n",
    "@constraint(p2, sum(x[3,j] for j = 1:3) <= 23)\n",
    "@constraint(p2, sum(x[4,j] for j = 1:3) <= 12)\n",
    "\n",
    "# weight capacity\n",
    "@constraint(p2, sum(x[i,1] for i = 1:4) <= 10)\n",
    "@constraint(p2, sum(x[i,2] for i = 1:4) <= 16)\n",
    "@constraint(p2, sum(x[i,3] for i = 1:4) <= 8)\n",
    "\n",
    "# space capacity\n",
    "@constraint(p2, 480*x[1,1]+650*x[2,1]+580*x[3,1]+390*x[4,1] <= 6800)\n",
    "@constraint(p2, 480*x[1,2]+650*x[2,2]+580*x[3,2]+390*x[4,2] <= 8700)\n",
    "@constraint(p2, 480*x[1,3]+650*x[2,3]+580*x[3,3]+390*x[4,3] <= 5300)\n",
    "\n",
    "# balance constraint\n",
    "@constraint(p2, sum(x[i,1] for i in 1:4)/10 == sum(x[i,2] for i in 1:4)/16)\n",
    "@constraint(p2, sum(x[i,2] for i in 1:4)/16 == sum(x[i,3] for i in 1:4)/8)\n",
    "\n",
    "# objective function\n",
    "@objective(p2, Max, 310*sum(x[1,j] for j in 1:3) + 380*sum(x[2,j] for j in 1:3) + 350*sum(x[3,j] for j in 1:3) + 285*sum(x[4,j] for j in 1:3))\n",
    "\n",
    "# solve LP\n",
    "optimize!(p2)\n",
    "\n",
    "#Printing out the solution\n",
    "x_value = value.(x)\n",
    "print(\"Optimal values: $(x_value),\\nOptimal objective: $(objective_value(p2))\\n\")"
   ]
  },
  {
   "cell_type": "markdown",
   "metadata": {},
   "source": [
    "## Problem 3: Putte the Pig Name Day Party\n",
    "\n",
    "$$\n",
    "\\begin{array}{lrlll}\n",
    "\\min. & 5x_1 & + \\;\\;\\; x_2 & + \\;\\;\\; 10x_3\\\\\n",
    "\\text{s.t.} & 10x_1 & + \\;\\;\\; x_2 & + \\;\\;\\; 20x_3 & \\geq 100\\\\\n",
    "&10 x_1 & & &\\geq 20\\\\\n",
    "& & x_2 & &\\geq 20\\\\\n",
    "& & & 20 x_3  &\\geq 20\\\\\n",
    "&10x_1 & & & \\geq 2x_2\\\\\n",
    "&30x_1 &+\\;\\;\\;x_2 &+ \\;\\;\\; 40x_3 &\\leq 600\\\\\n",
    "&x_1,\\;\\;\\;& x_2,\\;\\;\\;& x_3 &\\geq 0\n",
    "\\end{array}\n",
    "$$"
   ]
  },
  {
   "cell_type": "code",
   "execution_count": 6,
   "metadata": {},
   "outputs": [
    {
     "name": "stdout",
     "output_type": "stream",
     "text": [
      "Optimal values: [4.0, 20.0, 2.0],\n",
      "Optimal objective: 60.0\n"
     ]
    }
   ],
   "source": [
    "p3 = Model(with_optimizer(Cbc.Optimizer,logLevel = 0)) #creates the model, select the solver \n",
    "\n",
    "@variable(p3, x[1:3] >= 0)\n",
    "\n",
    "@constraint(p3, 10*x[1]+x[2]+20*x[3] >= 100)\n",
    "@constraint(p3, 10*x[1] >= 20)\n",
    "@constraint(p3, x[2] >= 20)\n",
    "@constraint(p3, 20*x[3] >= 20)\n",
    "@constraint(p3, 10*x[1] - 2x[2] >= 0)\n",
    "@constraint(p3, 30*x[1]+x[2]+40*x[3] <= 600)\n",
    "\n",
    "@objective(p3, Min, 5*x[1]+x[2]+10*x[3])\n",
    "\n",
    "optimize!(p3)\n",
    "\n",
    "x_value = value.(x)\n",
    "print(\"Optimal values: $(x_value),\\nOptimal objective: $(objective_value(p3))\\n\")"
   ]
  },
  {
   "cell_type": "markdown",
   "metadata": {},
   "source": [
    "## Problem 4: Planning of residential area\n",
    "\n",
    "$$\n",
    "\\begin{array}{lrrr}\n",
    "\\max. &200,000x_1 + &240,000x_2 + &300,000x_3 - &145,000x_1 - &165,000x_2 - &215,000x_3 - &125,000x_4\\\\\n",
    "\\text{s.t.} & 0.5x_1 \\;\\;\\;- &0.5x_2\\;\\;\\; - &0.5x_3& \\geq 0\\\\\n",
    "&2000x_1\\;\\;\\; + &2700x_2\\;\\;\\; + &3200x_3\\;\\;\\; + &2500x_4 &\\leq 850,000\\\\\n",
    "&-\\frac{1}{200}x_1 \\;\\;\\;- & \\frac{2}{200}x_2\\;\\;\\; - & \\frac{3}{200} x_3 \\;\\;\\; +& x_4 & \\geq 0\\\\\n",
    "&x_1\\;\\;\\; + &1.5x_2\\;\\;\\; + &2x_3\\;\\;\\; + &0.5x_4&\\leq 680\\\\\n",
    "&x_1, &x_2, &x_3 &&\\geq 0\n",
    "\\end{array}\n",
    "$$"
   ]
  },
  {
   "cell_type": "code",
   "execution_count": 31,
   "metadata": {},
   "outputs": [
    {
     "name": "stdout",
     "output_type": "stream",
     "text": [
      "Optimal values: [179.42, 179.42, 0.0, 2.69129],\n",
      "Optimal objective: 2.298812664907652e7\n"
     ]
    }
   ],
   "source": [
    "p4 = Model(with_optimizer(Cbc.Optimizer,logLevel = 0)) #creates the model, select the solver \n",
    "\n",
    "@variable(p4, x[1:4] >= 0) #continuous x's\n",
    "#@variable(p4, x[1:4] >= 0, Int) #integers\n",
    "\n",
    "@constraint(p4, 0.5*x[1] - 0.5*x[2] - 0.5*x[3] >= 0)\n",
    "@constraint(p4, 2000*x[1] + 2700*x[2] +3200*x[3] + 2500*x[4] <= 850000)\n",
    "@constraint(p4, (-1/200)*x[1] - (2/200)*x[2] - (3/200)*x[3] + x[4] >= 0)\n",
    "@constraint(p4, x[1] + 1.5*x[2] + 2*x[3] + 0.5*x[4] <= 680)\n",
    "@objective(p4, Max, 200000*x[1]+240000*x[2]+300000*x[3]-145000*x[1]-165000*x[2]-215000*x[3]-125000*x[4])\n",
    "\n",
    "optimize!(p4)\n",
    "\n",
    "x_value = value.(x)\n",
    "print(\"Optimal values: $(x_value),\\nOptimal objective: $(objective_value(p4))\\n\")"
   ]
  },
  {
   "cell_type": "markdown",
   "metadata": {},
   "source": [
    "## Problem 5: Staffing Stockmann\n",
    "\n",
    "$$\n",
    "\\begin{array}{lrlllll}\n",
    "\\min. &\\sum_{i}^7 x_i \\\\\n",
    "\\text{s.t.}& x_1 & & &+\\;\\;\\; x_4 &+\\;\\;\\; x_5 &+\\;\\;\\; x_6 &+\\;\\;\\; x_7 &\\geq 17\\\\\n",
    "& x_1 &+ \\;\\;\\;x_2 & & &+\\;\\;\\; x_5 &+\\;\\;\\; x_6 &+\\;\\;\\; x_7 &\\geq 13\\\\\n",
    "& x_1 &+ \\;\\;\\;x_2 &+\\;\\;\\;x_3 & & &+\\;\\;\\; x_6 &+\\;\\;\\; x_7 &\\geq 15\\\\\n",
    "& x_1 &+ \\;\\;\\;x_2 &+\\;\\;\\;x_3 &+\\;\\;\\;x_4 & & &+\\;\\;\\; x_7 &\\geq 19\\\\\n",
    "& x_1 &+ \\;\\;\\;x_2 &+\\;\\;\\;x_3 &+\\;\\;\\;x_4 &+\\;\\;\\;x_5 & & &\\geq 14\\\\\n",
    "& & \\;\\;\\;\\;\\;x_2 &+\\;\\;\\;x_3 &+\\;\\;\\;x_4 &+\\;\\;\\;x_5 &+\\;\\;\\;x_6 & &\\geq 16\\\\\n",
    "& & &\\;\\;\\;\\;\\;x_3 &+\\;\\;\\;x_4 &+\\;\\;\\;x_5 &+\\;\\;\\;x_6 &+\\;\\;\\;x_7 &\\geq 11\\\\\n",
    "& & & & & & & \\;\\;\\;\\;\\;x_i & \\geq 0\n",
    "\\end{array}\n",
    "$$"
   ]
  },
  {
   "cell_type": "code",
   "execution_count": 7,
   "metadata": {},
   "outputs": [
    {
     "name": "stdout",
     "output_type": "stream",
     "text": [
      "Optimal values: [1.33333, 5.33333, 0.0, 7.33333, 0.0, 3.33333, 5.0],\n",
      "Optimal objective: 22.333333333333332\n"
     ]
    }
   ],
   "source": [
    "p5a = Model(with_optimizer(Cbc.Optimizer,logLevel = 0)) #creates the model, select the solver \n",
    "\n",
    "@variable(p5a, x[1:7] >= 0)\n",
    "\n",
    "@constraint(p5a, x[1] + sum(x[i] for i in 4:7) >= 17)\n",
    "@constraint(p5a, sum(x[i] for i in 1:2) + sum(x[i] for i in 5:7) >= 13)\n",
    "@constraint(p5a, sum(x[i] for i in 1:3) + sum(x[i] for i in 6:7) >= 15)\n",
    "@constraint(p5a, sum(x[i] for i in 1:4) + x[7] >= 19)\n",
    "@constraint(p5a, sum(x[i] for i in 1:5) >= 14)\n",
    "@constraint(p5a, sum(x[i] for i in 2:6) >= 16)\n",
    "@constraint(p5a, sum(x[i] for i in 3:7) >= 11)\n",
    "\n",
    "@objective(p5a, Min, sum(x[i] for i in 1:7))\n",
    "\n",
    "optimize!(p5a)\n",
    "\n",
    "x_value = value.(x)\n",
    "print(\"Optimal values: $(x_value),\\nOptimal objective: $(objective_value(p5a))\\n\")"
   ]
  },
  {
   "cell_type": "code",
   "execution_count": 12,
   "metadata": {},
   "outputs": [
    {
     "name": "stdout",
     "output_type": "stream",
     "text": [
      "Optimal x values: [1.33333, 0.0, 2.0, 7.33333, 0.0, 3.33333, 3.08333],\n",
      "OPtimal Optimal y values: [0.0, 6.66667, 0.0, 0.0, 0.0, 0.0, 3.83333],\n",
      "Optimal objective: 2470.0\n"
     ]
    }
   ],
   "source": [
    "p5b = Model(with_optimizer(Cbc.Optimizer,logLevel = 0)) #creates the model, select the solver \n",
    "\n",
    "@variable(p5b, x[1:7] >= 0)\n",
    "@variable(p5b, y[1:7] >= 0)\n",
    "\n",
    "@constraint(p5b, 8*(x[1] + sum(x[i] for i in 4:7)) + 4*(y[1] + sum(y[i] for i in 4:7)) >= 136)\n",
    "@constraint(p5b, 8*(sum(x[i] for i in 1:2) + sum(x[i] for i in 5:7)) + 4*(sum(y[i] for i in 1:2) + sum(y[i] for i in 5:7)) >= 104)\n",
    "@constraint(p5b, 8*(sum(x[i] for i in 1:3) + sum(x[i] for i in 6:7)) + 4*(sum(y[i] for i in 1:3) + sum(y[i] for i in 6:7))  >= 120)\n",
    "@constraint(p5b, 8*(sum(x[i] for i in 1:4) + x[7]) + 4*(sum(y[i] for i in 1:4) + y[7]) >= 152)\n",
    "@constraint(p5b, 8*(sum(x[i] for i in 1:5)) + 4*(sum(y[i] for i in 1:5)) >= 112)\n",
    "@constraint(p5b, 8*(sum(x[i] for i in 2:6)) + 4*(sum(y[i] for i in 2:6)) >= 128)\n",
    "@constraint(p5b, 8*(sum(x[i] for i in 3:7)) + 4*(sum(y[i] for i in 3:7)) >= 88)\n",
    "\n",
    "@constraint(p5b, 4*5*(sum(y[i] for i in 1:7)) <= 210)\n",
    "\n",
    "@objective(p5b, Min, 15*8*sum(x[i] for i in 1:7) + 10*4*sum(y[i] for i in 1:7))\n",
    "\n",
    "optimize!(p5b)\n",
    "\n",
    "x_value = value.(x)\n",
    "y_value = value.(y)\n",
    "print(\"Optimal x values: $(x_value),\\nOPtimal Optimal y values: $(y_value),\\nOptimal objective: $(objective_value(p5b))\\n\")"
   ]
  },
  {
   "cell_type": "markdown",
   "metadata": {},
   "source": [
    "## Home Exercise 1: Bev's Beverages\n",
    "\n",
    "$$\n",
    "\\begin{array}{rrrl}\n",
    "\\max. & 1.5w\\;\\;\\; + &r\\;\\;\\; + &2f\\\\\n",
    "\\text{s.t.}& 0.5w\\;\\;\\; -& 0.5r\\;\\;\\; -& 0.5f &\\geq 0\\\\\n",
    "&-0.2w\\;\\;\\;+ & 0.8r\\;\\;\\; -& 0.2f &\\geq 0 \\\\\n",
    "&-0.3w\\;\\;\\;+ & 0.7r\\;\\;\\; -& 0.3f &\\leq 0 \\\\\n",
    "&-0.2w\\;\\;\\;- & 0.2r\\;\\;\\; +& 0.8f &\\geq 0 \\\\\n",
    "&-0.2w\\;\\;\\;- & 0.2r\\;\\;\\; +& 0.8f &\\leq 0 \\\\\n",
    "&w & & &\\leq 10,000\\\\\n",
    "& & r & &\\leq 8,000\\\\\n",
    "&w, & r, & f, &\\geq 0\n",
    "\\end{array}\n",
    "$$"
   ]
  },
  {
   "cell_type": "code",
   "execution_count": 32,
   "metadata": {},
   "outputs": [
    {
     "name": "stdout",
     "output_type": "stream",
     "text": [
      "Optimal x values: [10000.0, 6000.0, 4000.0],,\n",
      "Optimal objective: 29000.0\n"
     ]
    }
   ],
   "source": [
    "hw1 = Model(with_optimizer(Cbc.Optimizer,logLevel = 0)) #creates the model, select the solver \n",
    "\n",
    "@variable(hw1, x[1:3] >= 0)\n",
    "\n",
    "@constraint(hw1, 0.5*x[1] - 0.5*x[2] - 0.5*x[3] >= 0)\n",
    "@constraint(hw1, -0.2*x[1] + 0.8*x[2] - 0.2*x[3] >= 0)\n",
    "@constraint(hw1, -0.3*x[1] + 0.7*x[2] - 0.3*x[3] <= 0)\n",
    "@constraint(hw1, -0.2*x[1] -0.2*x[2] + 0.8*x[3] >= 0)\n",
    "@constraint(hw1, -0.2*x[1] -0.2*x[2] + 0.8*x[3] <= 0)\n",
    "@constraint(hw1, x[1] <= 10000)\n",
    "@constraint(hw1, x[2] <= 8000)\n",
    "\n",
    "@objective(hw1, Max, 1.5*x[1] + x[2] + 2*x[3])\n",
    "\n",
    "optimize!(hw1)\n",
    "\n",
    "x_value = value.(x)\n",
    "print(\"Optimal x values: $(x_value),,\\nOptimal objective: $(objective_value(hw1))\\n\")"
   ]
  }
 ],
 "metadata": {
  "kernelspec": {
   "display_name": "Julia 1.3.0",
   "language": "julia",
   "name": "julia-1.3"
  },
  "language_info": {
   "file_extension": ".jl",
   "mimetype": "application/julia",
   "name": "julia",
   "version": "1.3.0"
  }
 },
 "nbformat": 4,
 "nbformat_minor": 4
}
