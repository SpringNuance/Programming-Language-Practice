{
 "cells": [
  {
   "cell_type": "raw",
   "metadata": {},
   "source": [
    "Problem 1:\n",
    "a) Solve the optimization problem\n",
    "        min . x + y\n",
    "        s.t. 3x + y ≥ 2\n",
    "              x − y ≥ 0\n",
    "               x, y ≥ 0"
   ]
  },
  {
   "cell_type": "code",
   "execution_count": 1,
   "metadata": {},
   "outputs": [
    {
     "name": "stdout",
     "output_type": "stream",
     "text": [
      "Optimal values: [0.6666666666666666, 0.0], \n",
      "Optimal objective: 0.6666666666666666\n",
      "Presolve 2 (0) rows, 2 (0) columns and 4 (0) elements\n",
      "0  Obj 0 Primal inf 0.66666657 (1)\n",
      "1  Obj 0.66666667\n",
      "Optimal - objective value 0.66666667\n",
      "Optimal objective 0.6666666667 - 1 iterations time 0.002\n"
     ]
    }
   ],
   "source": [
    "using JuMP, Cbc # modelling language and solver\n",
    "d1 = Model(with_optimizer(Cbc.Optimizer,logLevel = 0)) # create the model, select the solver\n",
    "@variable(d1, x[1:2] >= 0) #creates the non-negative variables x1 and x2\n",
    "@constraint(d1, 3*x[1] + x[2] >= 2) # constraint 1\n",
    "@constraint(d1, x[1] - x[2] >= 0) # constraint 2\n",
    "@objective(d1, Min, x[1]+x[2]) # declare the objective function\n",
    "optimize!(d1) # solve the optimization problem\n",
    "\n",
    "# printing out the solution\n",
    "x_value = value.(x)\n",
    "print(\"Optimal values: $(x_value), \\nOptimal objective: $(objective_value(d1))\\n\")"
   ]
  },
  {
   "cell_type": "raw",
   "metadata": {},
   "source": [
    "b) Solve the optimization problem\n",
    "        max. 3x1 + 2x2\n",
    "        s.t. 2x1 +  x2 ≤ 100\n",
    "              x1 +  x2 ≤ 80\n",
    "              x1      ≤ 40\n",
    "               x1,  x2 ≥ 0"
   ]
  },
  {
   "cell_type": "code",
   "execution_count": 5,
   "metadata": {},
   "outputs": [
    {
     "name": "stdout",
     "output_type": "stream",
     "text": [
      "Optimal values: [20.0, 60.0], \n",
      "Optimal objective: 180.0\n",
      "Presolve 2 (-1) rows, 2 (0) columns and 4 (-1) elements\n",
      "0  Obj -0 Dual inf 4.999998 (2)\n",
      "2  Obj 180\n",
      "Optimal - objective value 180\n",
      "After Postsolve, objective 180, infeasibilities - dual 0 (0), primal 0 (0)\n",
      "Optimal objective 180 - 2 iterations time 0.002, Presolve 0.00\n"
     ]
    }
   ],
   "source": [
    "using JuMP, Cbc # modelling language and solver\n",
    "d1 = Model(with_optimizer(Cbc.Optimizer,logLevel = 0)) # create the model, select the solver\n",
    "@variable(d1, x[1:2] >= 0) #creates the non-negative variables x1 and x2\n",
    "@constraint(d1, 2*x[1] + x[2] <= 100) # constraint 1\n",
    "@constraint(d1, x[1] + x[2] <= 80) # constraint 2\n",
    "@constraint(d1, x[1] <= 40) # constraint 3\n",
    "@objective(d1, Max, 3*x[1]+2*x[2]) # declare the objective function\n",
    "optimize!(d1) # solve the optimization problem\n",
    "\n",
    "# printing out the solution\n",
    "x_value = value.(x)\n",
    "print(\"Optimal values: $(x_value), \\nOptimal objective: $(objective_value(d1))\\n\")"
   ]
  },
  {
   "cell_type": "code",
   "execution_count": null,
   "metadata": {},
   "outputs": [],
   "source": []
  }
 ],
 "metadata": {
  "kernelspec": {
   "display_name": "Julia 1.6.2",
   "language": "julia",
   "name": "julia-1.6"
  },
  "language_info": {
   "file_extension": ".jl",
   "mimetype": "application/julia",
   "name": "julia",
   "version": "1.6.2"
  }
 },
 "nbformat": 4,
 "nbformat_minor": 4
}
