{
 "cells": [
  {
   "cell_type": "raw",
   "metadata": {},
   "source": [
    "Problem 1:\n",
    "a) Solve the optimization problem\n",
    "        min .       y\n",
    "        s.t.    x     <= 500 \n",
    "              0.06x + 10 y ≥ 32\n",
    "               x + y <= 25"
   ]
  },
  {
   "cell_type": "code",
   "execution_count": 13,
   "metadata": {},
   "outputs": [
    {
     "name": "stdout",
     "output_type": "stream",
     "text": [
      "Optimal values: [20.0, 3.08], \n",
      "Optimal objective: 3.08\n",
      "Presolve 0 (-2) rows, 0 (-2) columns and 0 (-3) elements\n",
      "Optimal - objective value 3.08\n",
      "After Postsolve, objective 3.08, infeasibilities - dual 0 (0), primal 0 (0)\n",
      "Optimal objective 3.08 - 0 iterations time 0.002, Presolve 0.00\n"
     ]
    }
   ],
   "source": [
    "using JuMP, Cbc # modelling language and solver\n",
    "d1 = Model(with_optimizer(Cbc.Optimizer,logLevel = 0)) # create the model, select the solver\n",
    "@variable(d1, x[1:2] >= 0) #creates the non-negative variables x1 and x2\n",
    "@constraint(d1, x[1] <= 20) # constraint 1\n",
    "@constraint(d1, 0.06*x[1] + 10 * x[2] >= 32) # constraint 2\n",
    "# @constraint(d1, x[1] + x[2] <= 25) # constraint 2\n",
    "@objective(d1, Min, x[2]) # declare the objective function\n",
    "optimize!(d1) # solve the optimization problem\n",
    "\n",
    "# printing out the solution\n",
    "x_value = value.(x)\n",
    "print(\"Optimal values: $(x_value), \\nOptimal objective: $(objective_value(d1))\\n\")"
   ]
  },
  {
   "cell_type": "code",
   "execution_count": null,
   "metadata": {},
   "outputs": [],
   "source": []
  }
 ],
 "metadata": {
  "kernelspec": {
   "display_name": "Julia 1.6.2",
   "language": "julia",
   "name": "julia-1.6"
  },
  "language_info": {
   "file_extension": ".jl",
   "mimetype": "application/julia",
   "name": "julia",
   "version": "1.6.2"
  }
 },
 "nbformat": 4,
 "nbformat_minor": 4
}
