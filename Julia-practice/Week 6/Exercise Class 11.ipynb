{
 "cells": [
  {
   "cell_type": "code",
   "execution_count": 1,
   "metadata": {},
   "outputs": [],
   "source": [
    "using LinearAlgebra, ForwardDiff #for norm and differentiation"
   ]
  },
  {
   "cell_type": "markdown",
   "metadata": {},
   "source": [
    "## Demo 1"
   ]
  },
  {
   "cell_type": "code",
   "execution_count": 13,
   "metadata": {},
   "outputs": [
    {
     "data": {
      "text/plain": [
       "Newt_Raph (generic function with 1 method)"
      ]
     },
     "execution_count": 13,
     "metadata": {},
     "output_type": "execute_result"
    }
   ],
   "source": [
    "function Newt_Raph(f,ϵ,x0)\n",
    "    n = 0 # iteration count\n",
    "    ∇(f,x) = ForwardDiff.jacobian(f,x)\n",
    "    d = inv(-∇(f,x0)) * f(x0)\n",
    "    while norm(d) > ϵ\n",
    "        x1 = x0 + d\n",
    "        x0 = x1\n",
    "        d = inv(-∇(f,x0)) * f(x0)\n",
    "        n = n+1\n",
    "        println(\"Iteration $(n): $x0\")\n",
    "    end\n",
    "    println(\"After $(n) iterations the solution is x = $(x0)\")\n",
    "end"
   ]
  },
  {
   "cell_type": "code",
   "execution_count": 17,
   "metadata": {},
   "outputs": [
    {
     "data": {
      "text/plain": [
       "f (generic function with 1 method)"
      ]
     },
     "execution_count": 17,
     "metadata": {},
     "output_type": "execute_result"
    }
   ],
   "source": [
    "# define intial point \n",
    "x0 = [1, 1, 1]\n",
    "\n",
    "# define ϵ\n",
    "ϵ = 0.001\n",
    "\n",
    "# create an array of function (make sure there is the same number of arguments in each row/column)\n",
    "f(x) = [x[1]^2 + x[2]^2 - 4*x[3] - 0;\n",
    "        x[1]^2 + x[3]^2 + 0*x[3] - (1/4);\n",
    "        x[1]^2 + x[2]^2 + x[3]^2 - 1]\n"
   ]
  },
  {
   "cell_type": "code",
   "execution_count": 18,
   "metadata": {},
   "outputs": [
    {
     "name": "stdout",
     "output_type": "stream",
     "text": [
      "Iteration 1: [0.7916666666666665, 0.875, 0.33333333333333337]\n",
      "Iteration 2: [0.5236528822055138, 0.8660714285714286, 0.23809523809523808]\n",
      "Iteration 3: [0.4473267879691847, 0.8660254050073638, 0.23606889564336372]\n",
      "Iteration 4: [0.4408110310419283, 0.8660254037844386, 0.23606797749997818]\n",
      "After 4 iterations the solution is x = [0.4408110310419283, 0.8660254037844386, 0.23606797749997818]\n"
     ]
    }
   ],
   "source": [
    "Newt_Raph(f, ϵ, x0)"
   ]
  },
  {
   "cell_type": "markdown",
   "metadata": {},
   "source": [
    "## Demo 2"
   ]
  },
  {
   "cell_type": "code",
   "execution_count": 15,
   "metadata": {},
   "outputs": [
    {
     "data": {
      "text/plain": [
       "newton_syst (generic function with 1 method)"
      ]
     },
     "execution_count": 15,
     "metadata": {},
     "output_type": "execute_result"
    }
   ],
   "source": [
    "function newton_syst(A, X, ρ, β)\n",
    "    ## Calculate parmeters\n",
    "    (m,n) = size(A)\n",
    "    e = ones(n)\n",
    "    \n",
    "    ## Diagonalize z\n",
    "    z = ρ*inv(X)*e\n",
    "    Z = Diagonal(z)\n",
    "\n",
    "\n",
    "    ## Newton direction (our left hand side matrix)\n",
    "    Nmatrix = [zeros(n,n) A' Diagonal(ones(n));\n",
    "                A zeros(m,m) zeros(m,n);\n",
    "                Z zeros(n,m) X]\n",
    "\n",
    "    ## Calculate our right hand side vector components (residual dual, primal, and center)\n",
    "    rd = zeros(n)\n",
    "    rp = zeros(m)\n",
    "    rc = X*Z*e - (ρ*β)*e\n",
    "\n",
    "    ## Define right hand side vector\n",
    "    Nrhs = -[rd; rp; rc]\n",
    "\n",
    "    ## Solve for Δ vector (use backslash operator)\n",
    "    Δ = Nmatrix \\ Nrhs\n",
    "\n",
    "    Δx = Δ[1:n]\n",
    "    Δμ = Δ[n+1:n+m]\n",
    "    Δz = Δ[n+m+1:end]\n",
    "    println(\"Δx = $(Δx),\\nΔμ = $(Δμ),\\nΔz = $(Δz)\")\n",
    "    \n",
    "end"
   ]
  },
  {
   "cell_type": "code",
   "execution_count": 3,
   "metadata": {},
   "outputs": [
    {
     "data": {
      "text/plain": [
       "0.5"
      ]
     },
     "execution_count": 3,
     "metadata": {},
     "output_type": "execute_result"
    }
   ],
   "source": [
    "# define inputs for function: need A, X, ρ, β\n",
    "A = [3 1 1 0;\n",
    "    0 1 0 1]\n",
    "X = [2 0 0 0;\n",
    "    0 4 0 0;\n",
    "    0 0 8 0;\n",
    "    0 0 0 2]\n",
    "ρ = 10\n",
    "β = 0.5"
   ]
  },
  {
   "cell_type": "code",
   "execution_count": 16,
   "metadata": {},
   "outputs": [
    {
     "name": "stdout",
     "output_type": "stream",
     "text": [
      "Δx = [-0.2325581395348837, 0.6046511627906976, 0.09302325581395224, -0.6046511627906976],\n",
      "Δμ = [0.6395348837209303, 0.9883720930232558],\n",
      "Δz = [-1.9186046511627908, -1.627906976744186, -0.63953488372093, -0.9883720930232559]\n"
     ]
    }
   ],
   "source": [
    "# Solve Newton System\n",
    "newton_syst(A,X,ρ,β)"
   ]
  },
  {
   "cell_type": "markdown",
   "metadata": {},
   "source": [
    "## Problem 1"
   ]
  },
  {
   "cell_type": "code",
   "execution_count": 113,
   "metadata": {},
   "outputs": [
    {
     "data": {
      "text/plain": [
       "newton_equality (generic function with 1 method)"
      ]
     },
     "execution_count": 113,
     "metadata": {},
     "output_type": "execute_result"
    }
   ],
   "source": [
    "x0 = [2 4]\n",
    "f(x) = x[1]^4 + 2*x[2]^2\n",
    "A = [1 2]\n",
    "ϵ = 0.00001 \n",
    "\n",
    "function newton_equality(f,A,x0,ϵ)\n",
    "    H(f,x) = ForwardDiff.hessian(f,x)\n",
    "    ∇(f,x) = ForwardDiff.gradient(f,x)\n",
    "    n = 0\n",
    "    norm_crit = 100.0\n",
    "    while norm_crit > ϵ\n",
    "        Newt_matrix = [H(f,x0) A';\n",
    "                        A 0]\n",
    "        Newt_rhs = [-∇(f,x0)'; 0] \n",
    "        d1 = Newt_matrix \\ Newt_rhs\n",
    "        x1 = x0 + d1[1:2]'\n",
    "        norm_crit = norm(x1 -x0)\n",
    "        x0 = x1\n",
    "        n += 1\n",
    "        println(\"Iteration $(n): $x0\")\n",
    "    end\n",
    "    println(\"After $(n) iterations the solution is x = $(x0), \\nOptimal objective function value is $(f(x0))\")\n",
    "end\n"
   ]
  },
  {
   "cell_type": "code",
   "execution_count": 114,
   "metadata": {},
   "outputs": [
    {
     "name": "stdout",
     "output_type": "stream",
     "text": [
      "Iteration 1: [1.5102040816326532 4.244897959183674]\n",
      "Iteration 2: [1.3238151367310684 4.3380924316344665]\n",
      "Iteration 3: [1.296411946573941 4.351794026713031]\n",
      "Iteration 4: [1.2958522924386668 4.352073853780668]\n",
      "Iteration 5: [1.2958520620959688 4.352073968952017]\n",
      "After 5 iterations the solution is x = [1.2958520620959688 4.352073968952017], \n",
      "Optimal objective function value is 40.70091767599013\n"
     ]
    }
   ],
   "source": [
    "newton_equality(f,A,x0,ϵ)\n"
   ]
  },
  {
   "cell_type": "code",
   "execution_count": 102,
   "metadata": {},
   "outputs": [
    {
     "name": "stdout",
     "output_type": "stream",
     "text": [
      "This is Ipopt version 3.12.10, running with linear solver mumps.\n",
      "NOTE: Other linear solvers might be more efficient (see Ipopt documentation).\n",
      "\n",
      "Number of nonzeros in equality constraint Jacobian...:        2\n",
      "Number of nonzeros in inequality constraint Jacobian.:        0\n",
      "Number of nonzeros in Lagrangian Hessian.............:        2\n",
      "\n",
      "Total number of variables............................:        2\n",
      "                     variables with only lower bounds:        2\n",
      "                variables with lower and upper bounds:        0\n",
      "                     variables with only upper bounds:        0\n",
      "Total number of equality constraints.................:        1\n",
      "Total number of inequality constraints...............:        0\n",
      "        inequality constraints with only lower bounds:        0\n",
      "   inequality constraints with lower and upper bounds:        0\n",
      "        inequality constraints with only upper bounds:        0\n",
      "\n",
      "iter    objective    inf_pr   inf_du lg(mu)  ||d||  lg(rg) alpha_du alpha_pr  ls\n",
      "   0  2.0000960e-04 9.97e+00 4.16e-01  -1.0 0.00e+00    -  0.00e+00 0.00e+00   0\n",
      "   1  5.0862059e+01 0.00e+00 3.84e+02  -1.0 3.94e+00    -  2.57e-03 1.00e+00h  1\n",
      "   2  4.1580464e+01 0.00e+00 6.77e+00  -1.0 5.41e-01    -  1.00e+00 1.00e+00f  1\n",
      "   3  4.0722828e+01 0.00e+00 9.07e-01  -1.0 2.25e-01    -  1.00e+00 1.00e+00f  1\n",
      "   4  4.0700965e+01 0.00e+00 2.93e-02  -1.7 4.29e-02    -  1.00e+00 1.00e+00f  1\n",
      "   5  4.0700918e+01 0.00e+00 6.37e-05  -2.5 2.02e-03    -  1.00e+00 1.00e+00f  1\n",
      "   6  4.0700918e+01 1.78e-15 1.17e-07  -3.8 8.73e-05    -  1.00e+00 1.00e+00f  1\n",
      "   7  4.0700918e+01 0.00e+00 3.14e-10  -5.7 4.63e-06    -  1.00e+00 1.00e+00h  1\n",
      "   8  4.0700918e+01 0.00e+00 2.59e-14  -8.6 5.72e-08    -  1.00e+00 1.00e+00f  1\n",
      "\n",
      "Number of Iterations....: 8\n",
      "\n",
      "                                   (scaled)                 (unscaled)\n",
      "Objective...............:   4.0700917675990105e+01    4.0700917675990105e+01\n",
      "Dual infeasibility......:   2.5941515433922243e-14    2.5941515433922243e-14\n",
      "Constraint violation....:   0.0000000000000000e+00    0.0000000000000000e+00\n",
      "Complementarity.........:   2.5059849772081905e-09    2.5059849772081905e-09\n",
      "Overall NLP error.......:   2.5059849772081905e-09    2.5059849772081905e-09\n",
      "\n",
      "\n",
      "Number of objective function evaluations             = 9\n",
      "Number of objective gradient evaluations             = 9\n",
      "Number of equality constraint evaluations            = 9\n",
      "Number of inequality constraint evaluations          = 0\n",
      "Number of equality constraint Jacobian evaluations   = 1\n",
      "Number of inequality constraint Jacobian evaluations = 0\n",
      "Number of Lagrangian Hessian evaluations             = 8\n",
      "Total CPU secs in IPOPT (w/o function evaluations)   =      0.004\n",
      "Total CPU secs in NLP function evaluations           =      0.000\n",
      "\n",
      "EXIT: Optimal Solution Found.\n",
      "[1.2958520621737515, 4.352073968913125], 40.700917675990105 \n"
     ]
    }
   ],
   "source": [
    "using JuMP, Ipopt\n",
    "m = Model(with_optimizer(Ipopt.Optimizer))\n",
    "\n",
    "@variable(m, x[1:2] >= 0)\n",
    "@constraint(m, x[1] + 2*x[2] == 10)\n",
    "@NLobjective(m, Min, x[1]^4 + 2*x[2]^2)\n",
    "\n",
    "optimize!(m)\n",
    "\n",
    "x_value = value.(x)\n",
    "println(\"$(x_value), $(objective_value(m)) \")\n"
   ]
  },
  {
   "cell_type": "markdown",
   "metadata": {},
   "source": [
    "## Problem 3"
   ]
  },
  {
   "cell_type": "code",
   "execution_count": 5,
   "metadata": {},
   "outputs": [
    {
     "data": {
      "text/plain": [
       "0.5"
      ]
     },
     "execution_count": 5,
     "metadata": {},
     "output_type": "execute_result"
    }
   ],
   "source": [
    "A3 = [2 1 1; 1 2 0]\n",
    "X3 = [2 0 0; 0 4 0; 0 0 1]\n",
    "ρ3 = 5\n",
    "β3 = 0.5"
   ]
  },
  {
   "cell_type": "code",
   "execution_count": 17,
   "metadata": {},
   "outputs": [
    {
     "name": "stdout",
     "output_type": "stream",
     "text": [
      "Δx = [0.2236024844720495, -0.11180124223602483, -0.3354037267080746],\n",
      "Δμ = [0.8229813664596272, -0.11645962732919239],\n",
      "Δz = [-1.5295031055900619, -0.5900621118012424, -0.8229813664596272]\n"
     ]
    }
   ],
   "source": [
    "# Solve Newton System\n",
    "newton_syst(A3,X3,ρ3,β3)"
   ]
  }
 ],
 "metadata": {
  "kernelspec": {
   "display_name": "Julia 1.3.0",
   "language": "julia",
   "name": "julia-1.3"
  },
  "language_info": {
   "file_extension": ".jl",
   "mimetype": "application/julia",
   "name": "julia",
   "version": "1.3.0"
  }
 },
 "nbformat": 4,
 "nbformat_minor": 4
}
