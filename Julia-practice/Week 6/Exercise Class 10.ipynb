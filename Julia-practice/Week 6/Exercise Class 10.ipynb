{
 "cells": [
  {
   "cell_type": "markdown",
   "metadata": {},
   "source": [
    "## Problem 3"
   ]
  },
  {
   "cell_type": "code",
   "execution_count": 3,
   "metadata": {},
   "outputs": [
    {
     "name": "stdout",
     "output_type": "stream",
     "text": [
      "Optimal values: [0.19999999999999998, 0.4],\n",
      "Optimal objective: 5.0\n"
     ]
    }
   ],
   "source": [
    "# Dual is:\n",
    "\n",
    "# min. 9y_1 + 8y_2\n",
    "# s.t. y_1 + 2y_2 >= 1\n",
    "#     3y_1 + y_2 >= 1\n",
    "#      y_1, y_2 >= 0\n",
    "\n",
    "using JuMP, Cbc #modelling language and solver\n",
    "\n",
    "m = Model(with_optimizer(Cbc.Optimizer,logLevel = 0)) #creates the model, select the solver  \n",
    "\n",
    "@variable(m, y[1:2] >= 0) # creates the non-negative variables y1 and y2\n",
    "\n",
    "@constraint(m, y[1] + 2*y[2] >= 1) # constraint 1\n",
    "@constraint(m, 3*y[1] + y[2] >= 1) # constraint 2\n",
    "\n",
    "@objective(m, Min, 9*y[1] + 8*y[2]) # declare the objective function\n",
    "\n",
    "optimize!(m) # solve the optimisation problem\n",
    "\n",
    "#Printing out the solution\n",
    "y_value = value.(y)\n",
    "print(\"Optimal values: $(y_value),\\nOptimal objective: $(objective_value(m))\\n\")\n"
   ]
  },
  {
   "cell_type": "code",
   "execution_count": null,
   "metadata": {},
   "outputs": [],
   "source": []
  }
 ],
 "metadata": {
  "kernelspec": {
   "display_name": "Julia 1.3.0",
   "language": "julia",
   "name": "julia-1.3"
  },
  "language_info": {
   "file_extension": ".jl",
   "mimetype": "application/julia",
   "name": "julia",
   "version": "1.3.0"
  }
 },
 "nbformat": 4,
 "nbformat_minor": 4
}
